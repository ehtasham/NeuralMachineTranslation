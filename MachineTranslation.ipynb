{
 "cells": [
  {
   "cell_type": "code",
   "execution_count": null,
   "metadata": {
    "colab": {
     "base_uri": "https://localhost:8080/",
     "height": 34
    },
    "colab_type": "code",
    "id": "hW1cqwhGUvsP",
    "outputId": "d5b3715d-dbd9-47a4-ac50-0c48deaea171"
   },
   "outputs": [
    {
     "name": "stderr",
     "output_type": "stream",
     "text": [
      "Using TensorFlow backend.\n"
     ]
    }
   ],
   "source": [
    "%reload_ext autoreload\n",
    "%autoreload 1"
   ]
  },
  {
   "cell_type": "code",
   "execution_count": null,
   "metadata": {
    "colab": {},
    "colab_type": "code",
    "id": "fNx0lmL-VVzr"
   },
   "outputs": [],
   "source": [
    "#imports\n",
    "import os\n",
    "import collections\n",
    "import numpy as np\n",
    "\n",
    "from keras.preprocessing.text import Tokenizer\n",
    "from keras.preprocessing.sequence import pad_sequences\n",
    "from keras.models import Model\n",
    "from keras.layers import GRU, LSTM, Input, Dense, TimeDistributed, Activation, RepeatVector, Bidirectional ,Dropout\n",
    "from keras.layers.embeddings import Embedding\n",
    "from keras.optimizers import Adam\n",
    "from keras.losses import sparse_categorical_crossentropy"
   ]
  },
  {
   "cell_type": "code",
   "execution_count": null,
   "metadata": {
    "colab": {
     "base_uri": "https://localhost:8080/",
     "height": 538
    },
    "colab_type": "code",
    "id": "PkRCL1XLU-pJ",
    "outputId": "910e177d-c353-4b7a-f4cc-5172f69f19f6"
   },
   "outputs": [
    {
     "name": "stdout",
     "output_type": "stream",
     "text": [
      "[name: \"/device:CPU:0\"\n",
      "device_type: \"CPU\"\n",
      "memory_limit: 268435456\n",
      "locality {\n",
      "}\n",
      "incarnation: 6164194445097868486\n",
      ", name: \"/device:XLA_CPU:0\"\n",
      "device_type: \"XLA_CPU\"\n",
      "memory_limit: 17179869184\n",
      "locality {\n",
      "}\n",
      "incarnation: 666378641026499071\n",
      "physical_device_desc: \"device: XLA_CPU device\"\n",
      ", name: \"/device:XLA_GPU:0\"\n",
      "device_type: \"XLA_GPU\"\n",
      "memory_limit: 17179869184\n",
      "locality {\n",
      "}\n",
      "incarnation: 7263606609566238232\n",
      "physical_device_desc: \"device: XLA_GPU device\"\n",
      ", name: \"/device:GPU:0\"\n",
      "device_type: \"GPU\"\n",
      "memory_limit: 7304675328\n",
      "locality {\n",
      "  bus_id: 1\n",
      "  links {\n",
      "  }\n",
      "}\n",
      "incarnation: 3163008019492340206\n",
      "physical_device_desc: \"device: 0, name: Tesla P4, pci bus id: 0000:00:04.0, compute capability: 6.1\"\n",
      "]\n"
     ]
    }
   ],
   "source": [
    "#verify access to GPU\n",
    "from tensorflow.python.client import device_lib\n",
    "print(device_lib.list_local_devices())"
   ]
  },
  {
   "cell_type": "code",
   "execution_count": null,
   "metadata": {
    "colab": {},
    "colab_type": "code",
    "id": "yutycSqvU8rp"
   },
   "outputs": [],
   "source": [
    "#load dataset\n",
    "def load_data(path):\n",
    "    input_file = os.path.join(path)\n",
    "    with open(input_file, \"r\") as f:\n",
    "        data = f.read()\n",
    "\n",
    "    return data.split('\\n')"
   ]
  },
  {
   "cell_type": "markdown",
   "metadata": {
    "colab_type": "text",
    "id": "t0ATaFEMWldc"
   },
   "source": [
    "### Load Data\n",
    "The data is located in `data/small_vocab_en` and `data/small_vocab_fr`. The `small_vocab_en` file contains English sentences with their French translations in the `small_vocab_fr` file. Load the English and French data from these files from running the cell below."
   ]
  },
  {
   "cell_type": "code",
   "execution_count": null,
   "metadata": {
    "colab": {},
    "colab_type": "code",
    "id": "NtsTdyskWXCl"
   },
   "outputs": [],
   "source": [
    "#load English Data\n",
    "english_sentences = load_data('data/small_vocab_en')\n",
    "#load French Data\n",
    "french_sentences = load_data('data/small_vocab_fr')"
   ]
  },
  {
   "cell_type": "markdown",
   "metadata": {
    "colab_type": "text",
    "id": "uQo93qntXrgu"
   },
   "source": [
    "### Files\n",
    "Each line in `small_vocab_en` contains an English sentence with the respective translation in each line of `small_vocab_fr`.  View the first two lines from each file."
   ]
  },
  {
   "cell_type": "code",
   "execution_count": null,
   "metadata": {
    "colab": {
     "base_uri": "https://localhost:8080/",
     "height": 84
    },
    "colab_type": "code",
    "id": "jBjVYSj3Xr3c",
    "outputId": "4b253a59-2960-441e-c917-95ce86b2ee69"
   },
   "outputs": [
    {
     "name": "stdout",
     "output_type": "stream",
     "text": [
      "Englist text 1: new jersey is sometimes quiet during autumn , and it is snowy in april .\n",
      "French text 1: new jersey est parfois calme pendant l' automne , et il est neigeux en avril .\n",
      "Englist text 2: the united states is usually chilly during july , and it is usually freezing in november .\n",
      "French text 2: les états-unis est généralement froid en juillet , et il gèle habituellement en novembre .\n"
     ]
    }
   ],
   "source": [
    "#visualize data\n",
    "for text in range(2):\n",
    "    print('Englist text {}: {}'.format(text+1, english_sentences[text]))\n",
    "    print('French text {}: {}'.format(text+1, french_sentences[text]))\n"
   ]
  },
  {
   "cell_type": "code",
   "execution_count": null,
   "metadata": {
    "colab": {
     "base_uri": "https://localhost:8080/",
     "height": 168
    },
    "colab_type": "code",
    "id": "3vklEGUlYLrz",
    "outputId": "a7e37ce5-f357-4fae-b005-e937264300ea"
   },
   "outputs": [
    {
     "name": "stdout",
     "output_type": "stream",
     "text": [
      "1823250 English word.\n",
      "227 unique Englist words.\n",
      "10 Most common words in English dataset:\n",
      "\"is\" \",\" \".\" \"in\" \"it\" \"during\" \"the\" \"but\" \"and\" \"sometimes\"\n",
      "\n",
      "1961295 French word.\n",
      "355 unique French words.\n",
      "10 Most common words in French dataset:\n",
      "\"est\" \".\" \",\" \"en\" \"il\" \"les\" \"mais\" \"et\" \"la\" \"parfois\"\n"
     ]
    }
   ],
   "source": [
    "#total no of unique words in each vocabualary\n",
    "english_word_counter = collections.Counter([word for sentence in english_sentences for word in sentence.split()])\n",
    "french_word_counter = collections.Counter([word for sentence in french_sentences for word in sentence.split()])\n",
    "\n",
    "print('{} English word.'.format(len([word for sentence in english_sentences for word in sentence.split()])))\n",
    "print('{} unique Englist words.'.format(len(english_word_counter)))\n",
    "print('10 Most common words in English dataset:')\n",
    "print('\"' + '\" \"'. join(list(zip(*english_word_counter.most_common(10)))[0])+'\"')\n",
    "print(\"\")\n",
    "print('{} French word.'.format(len([word for sentence in french_sentences for word in sentence.split()])))\n",
    "print('{} unique French words.'.format(len(french_word_counter)))\n",
    "print('10 Most common words in French dataset:')\n",
    "print('\"' + '\" \"'. join(list(zip(*french_word_counter.most_common(10)))[0])+'\"')"
   ]
  },
  {
   "cell_type": "markdown",
   "metadata": {
    "colab_type": "text",
    "id": "FInHd7JKdW0M"
   },
   "source": [
    "## Preprocess\n",
    "we need to convert the text into sequences of integers using the following preprocess methods:\n",
    "1. Tokenize the words into ids\n",
    "2. Add padding to make all the sequences the same length.\n",
    "\n",
    "### Tokenize\n",
    "we will Turn each sentence into a sequence of words ids using Keras's [`Tokenizer`](https://keras.io/preprocessing/text/#tokenizer) function. "
   ]
  },
  {
   "cell_type": "code",
   "execution_count": null,
   "metadata": {
    "colab": {
     "base_uri": "https://localhost:8080/",
     "height": 222
    },
    "colab_type": "code",
    "id": "avtxBCNZZ-hH",
    "outputId": "82bad6ff-5571-4dc1-ea72-025cef896ba7"
   },
   "outputs": [
    {
     "name": "stdout",
     "output_type": "stream",
     "text": [
      "{'the': 1, 'quick': 2, 'a': 3, 'brown': 4, 'fox': 5, 'jumps': 6, 'over': 7, 'lazy': 8, 'dog': 9, 'by': 10, 'jove': 11, 'my': 12, 'study': 13, 'of': 14, 'lexicography': 15, 'won': 16, 'prize': 17, 'this': 18, 'is': 19, 'short': 20, 'sentence': 21}\n",
      "\n",
      "Sequence 1 in x\n",
      "  Input:  The quick brown fox jumps over the lazy dog .\n",
      "  Output: [1, 2, 4, 5, 6, 7, 1, 8, 9]\n",
      "Sequence 2 in x\n",
      "  Input:  By Jove , my quick study of lexicography won a prize .\n",
      "  Output: [10, 11, 12, 2, 13, 14, 15, 16, 3, 17]\n",
      "Sequence 3 in x\n",
      "  Input:  This is a short sentence .\n",
      "  Output: [18, 19, 3, 20, 21]\n"
     ]
    }
   ],
   "source": [
    "def tokenize(sentences):\n",
    "  \"\"\"\n",
    "  Tokenize sentences\n",
    "  :param sentence: List of sentences to be tokenized\n",
    "  :return: Tuple of tokenized sentences and tokenizer\n",
    "  \"\"\"\n",
    "    tokenizer = Tokenizer()\n",
    "    tokenizer.fit_on_texts(sentences)\n",
    "    text_tokenized = tokenizer.texts_to_sequences(sentences)\n",
    "\n",
    "    return text_tokenized, tokenizer\n",
    "\n",
    "\n",
    "# Tokenize Example output\n",
    "text_sentences = [\n",
    "    'The quick brown fox jumps over the lazy dog .',\n",
    "    'By Jove , my quick study of lexicography won a prize .',\n",
    "    'This is a short sentence .']\n",
    "text_tokenized, text_tokenizer = tokenize(text_sentences)\n",
    "print(text_tokenizer.word_index)\n",
    "print()\n",
    "for sample_i, (sent, token_sent) in enumerate(zip(text_sentences, text_tokenized)):\n",
    "    print('Sequence {} in x'.format(sample_i + 1))\n",
    "    print('  Input:  {}'.format(sent))\n",
    "    print('  Output: {}'.format(token_sent))"
   ]
  },
  {
   "cell_type": "markdown",
   "metadata": {
    "colab_type": "text",
    "id": "hfC2YFUUkF3K"
   },
   "source": [
    "### Padding\n",
    "we need to make sure that all the sequences are of same length by adding padding to the end of each sequence"
   ]
  },
  {
   "cell_type": "code",
   "execution_count": null,
   "metadata": {
    "colab": {
     "base_uri": "https://localhost:8080/",
     "height": 168
    },
    "colab_type": "code",
    "id": "kiuwmGraiSl4",
    "outputId": "38383804-f327-4423-c72e-90a0128f34d2"
   },
   "outputs": [
    {
     "name": "stdout",
     "output_type": "stream",
     "text": [
      "Sequence 1 in x\n",
      "   Input: [1 2 4 5 6 7 1 8 9]\n",
      "   Output: [1 2 4 5 6 7 1 8 9 0]\n",
      "Sequence 2 in x\n",
      "   Input: [10 11 12  2 13 14 15 16  3 17]\n",
      "   Output: [10 11 12  2 13 14 15 16  3 17]\n",
      "Sequence 3 in x\n",
      "   Input: [18 19  3 20 21]\n",
      "   Output: [18 19  3 20 21  0  0  0  0  0]\n"
     ]
    }
   ],
   "source": [
    "def pad(sentences, length=None):\n",
    "  \"\"\"\n",
    "  pad sentences\n",
    "  :param sentences: List of sentences\n",
    "  :parem length: Lenght to pad the sequence to. if None use the length of the longest sequence\n",
    "  :return: padded numpy array of sequences\n",
    "  \"\"\"\n",
    "    if length is None:\n",
    "        length=max([len(sentence) for sentence in sentences])\n",
    "\n",
    "    return pad_sequences(sentences, maxlen=length, padding='post')\n",
    "\n",
    "\n",
    "#pad Tokenized output\n",
    "test_pad = pad(text_tokenized)\n",
    "for text, (token_sent, pad_sent) in enumerate(zip(text_tokenized, test_pad)):\n",
    "    print('Sequence {} in x'.format(text+1))\n",
    "    print('   Input: {}'.format(np.array(token_sent)))\n",
    "    print('   Output: {}'.format(pad_sent))"
   ]
  },
  {
   "cell_type": "markdown",
   "metadata": {
    "colab_type": "text",
    "id": "oTePUu63xbr1"
   },
   "source": [
    "### Preprocess Pipeline\n"
   ]
  },
  {
   "cell_type": "code",
   "execution_count": null,
   "metadata": {
    "colab": {
     "base_uri": "https://localhost:8080/",
     "height": 101
    },
    "colab_type": "code",
    "id": "y9FMhfW7mGt3",
    "outputId": "f8db666b-38a7-4022-c5ce-294258ccfcc0"
   },
   "outputs": [
    {
     "name": "stdout",
     "output_type": "stream",
     "text": [
      "Data Preprocessed\n",
      "Max English sentence length: 15\n",
      "Max French sentence length: 21\n",
      "English vocabulary size: 199\n",
      "French vocabulary size: 344\n"
     ]
    }
   ],
   "source": [
    "def preprocess(x, y):\n",
    "    \"\"\"\n",
    "  preprocess x and y\n",
    "  :param x: Feature List of sentences\n",
    "  :param y: Label List of sentences\n",
    "  :return: Tuple of (Preprocessed x, Preprocessed y, x_tokenizer, y_tokenizer)\n",
    "  \"\"\"\n",
    "    preprocess_x, x_tokenizer = tokenize(x)\n",
    "    preprocess_y, y_tokenizer = tokenize(y)\n",
    "\n",
    "    preprocess_x = pad(preprocess_x)\n",
    "    preprocess_y = pad(preprocess_y)\n",
    "\n",
    "  #keras's sparse_categorical_crossentropy function requires the labels to be in 3 dimensions\n",
    "    preprocess_y = preprocess_y.reshape(*preprocess_y.shape, 1)\n",
    "\n",
    "    return preprocess_x, preprocess_y, x_tokenizer, y_tokenizer\n",
    "\n",
    "preprocessed_english_sentences, preprocessed_french_sentences, english_tokenizer, french_tokenizer =\\\n",
    "  preprocess(english_sentences, french_sentences)\n",
    "\n",
    "\n",
    "max_english_sequence_length = preprocessed_english_sentences.shape[1]\n",
    "max_french_sequence_length = preprocessed_french_sentences.shape[1]\n",
    "english_vocab_size = len(english_tokenizer.word_index)\n",
    "french_vocab_size = len(french_tokenizer.word_index)\n",
    "\n",
    "print('Data Preprocessed')\n",
    "print(\"Max English sentence length:\", max_english_sequence_length)\n",
    "print(\"Max French sentence length:\", max_french_sequence_length)\n",
    "print(\"English vocabulary size:\", english_vocab_size)\n",
    "print(\"French vocabulary size:\", french_vocab_size)"
   ]
  },
  {
   "cell_type": "code",
   "execution_count": null,
   "metadata": {
    "colab": {
     "base_uri": "https://localhost:8080/",
     "height": 34
    },
    "colab_type": "code",
    "id": "1Sy7NVEpzgeG",
    "outputId": "a890569c-1487-447c-a651-384f68a72e76"
   },
   "outputs": [
    {
     "name": "stdout",
     "output_type": "stream",
     "text": [
      "`logits_to_text` function loaded.\n"
     ]
    }
   ],
   "source": [
    "def logits_to_text(logits, tokenizer):\n",
    "    \"\"\"\n",
    "  Turn logits from Neural Network into text using the tokenizer\n",
    "  :param logits: Logits from Neural Network\n",
    "  :param tokenizer: keras Tokenizer fit on the labels\n",
    "  :return: String that represents the text of logits\n",
    "  \"\"\"\n",
    "    index_to_words = {id:word for word, id in tokenizer.word_index.items()}\n",
    "    index_to_words[0]='<PAD>'\n",
    "\n",
    "    return ' '.join([index_to_words[prediction] for prediction in np.argmax(logits, 1)])\n",
    "\n",
    "  \n",
    "print('`logits_to_text` function loaded.')"
   ]
  },
  {
   "cell_type": "markdown",
   "metadata": {
    "colab_type": "text",
    "id": "hrTJAl20MQqL"
   },
   "source": [
    "### Model 1: RNN\n",
    "A basic RNN model is a good baseline for sequence data. "
   ]
  },
  {
   "cell_type": "code",
   "execution_count": null,
   "metadata": {
    "colab": {
     "base_uri": "https://localhost:8080/",
     "height": 386
    },
    "colab_type": "code",
    "id": "WdaEhNAiMMkB",
    "outputId": "ca6d3212-be4d-4d81-e7eb-237adbcdd02a"
   },
   "outputs": [
    {
     "name": "stdout",
     "output_type": "stream",
     "text": [
      "Train on 110288 samples, validate on 27573 samples\n",
      "Epoch 1/10\n",
      "110288/110288 [==============================] - 9s 78us/step - loss: 4.7372 - accuracy: 0.3954 - val_loss: nan - val_accuracy: 0.4106\n",
      "Epoch 2/10\n",
      "110288/110288 [==============================] - 6s 59us/step - loss: 2.8882 - accuracy: 0.4163 - val_loss: nan - val_accuracy: 0.4307\n",
      "Epoch 3/10\n",
      "110288/110288 [==============================] - 6s 59us/step - loss: 2.6433 - accuracy: 0.4444 - val_loss: nan - val_accuracy: 0.4644\n",
      "Epoch 4/10\n",
      "110288/110288 [==============================] - 7s 60us/step - loss: 2.5517 - accuracy: 0.4662 - val_loss: nan - val_accuracy: 0.4748\n",
      "Epoch 5/10\n",
      "110288/110288 [==============================] - 7s 60us/step - loss: 2.4888 - accuracy: 0.4798 - val_loss: nan - val_accuracy: 0.4818\n",
      "Epoch 6/10\n",
      "110288/110288 [==============================] - 6s 59us/step - loss: 2.4380 - accuracy: 0.4816 - val_loss: nan - val_accuracy: 0.4824\n",
      "Epoch 7/10\n",
      "110288/110288 [==============================] - 7s 59us/step - loss: 2.3876 - accuracy: 0.4774 - val_loss: nan - val_accuracy: 0.4752\n",
      "Epoch 8/10\n",
      "110288/110288 [==============================] - 7s 60us/step - loss: 2.3378 - accuracy: 0.4744 - val_loss: nan - val_accuracy: 0.4759\n",
      "Epoch 9/10\n",
      "110288/110288 [==============================] - 7s 60us/step - loss: 2.2850 - accuracy: 0.4769 - val_loss: nan - val_accuracy: 0.4844\n",
      "Epoch 10/10\n",
      "110288/110288 [==============================] - 7s 60us/step - loss: 2.2310 - accuracy: 0.4870 - val_loss: nan - val_accuracy: 0.4915\n",
      "les les est est est en en est est est en est en <PAD> <PAD> <PAD> <PAD> <PAD> <PAD> <PAD> <PAD>\n"
     ]
    }
   ],
   "source": [
    "def simple_model(input_shape, out_sequence_length, english_vocab_size, french_vocab_size):\n",
    "    \"\"\"\n",
    "  Build and Train a basic RNN on x and y\n",
    "  :param input_shape: Tuple of input shape\n",
    "  :param output_sequence_length: Length of output sequence\n",
    "  :param english_vocab_size: Number of unique English words in the dataset\n",
    "  :param french_vocab_size: Number of unique French words in the dataset\n",
    "  :return: keras model built, but not trained\n",
    "  \"\"\"\n",
    "    lr = 1e-3\n",
    "    input_seq = Input(input_shape[1:])\n",
    "    rnn = GRU(out_sequence_length, return_sequences=True)(input_seq)\n",
    "    logits = TimeDistributed(Dense(french_vocab_size))(rnn)\n",
    "    model = Model(input_seq, Activation('softmax')(logits))\n",
    "    model.compile(loss='sparse_categorical_crossentropy',\n",
    "                  optimizer=Adam(learning_rate=lr),\n",
    "                  metrics=['accuracy'])\n",
    "    return model\n",
    "\n",
    "\n",
    "#reshape input\n",
    "tmp_x = pad(preprocessed_english_sentences, max_french_sequence_length)\n",
    "tmp_x = tmp_x.reshape((-1, preprocessed_french_sentences.shape[-2], 1))\n",
    "\n",
    "#Train the neural network\n",
    "simple_rnn_model = simple_model(\n",
    "    tmp_x.shape,\n",
    "    max_french_sequence_length,\n",
    "    english_vocab_size,\n",
    "    french_vocab_size\n",
    ")\n",
    "\n",
    "simple_rnn_model.fit(tmp_x, preprocessed_french_sentences, batch_size=1024, epochs=10, validation_split=0.2)\n",
    "\n",
    "#print predictions\n",
    "print(logits_to_text(simple_rnn_model.predict(tmp_x[:1])[0], french_tokenizer))"
   ]
  },
  {
   "cell_type": "code",
   "execution_count": null,
   "metadata": {
    "colab": {
     "base_uri": "https://localhost:8080/",
     "height": 386
    },
    "colab_type": "code",
    "id": "3od-sM9lWf2k",
    "outputId": "9b6bd082-8717-461d-9c78-81aef451d523"
   },
   "outputs": [
    {
     "name": "stdout",
     "output_type": "stream",
     "text": [
      "Train on 110288 samples, validate on 27573 samples\n",
      "Epoch 1/10\n",
      "110288/110288 [==============================] - 8s 74us/step - loss: 2.3451 - accuracy: 0.4917 - val_loss: nan - val_accuracy: 0.5742\n",
      "Epoch 2/10\n",
      "110288/110288 [==============================] - 6s 57us/step - loss: 1.6524 - accuracy: 0.5791 - val_loss: nan - val_accuracy: 0.6168\n",
      "Epoch 3/10\n",
      "110288/110288 [==============================] - 6s 58us/step - loss: 1.4886 - accuracy: 0.6039 - val_loss: nan - val_accuracy: 0.6284\n",
      "Epoch 4/10\n",
      "110288/110288 [==============================] - 6s 56us/step - loss: 1.3969 - accuracy: 0.6177 - val_loss: nan - val_accuracy: 0.6447\n",
      "Epoch 5/10\n",
      "110288/110288 [==============================] - 6s 54us/step - loss: 1.3360 - accuracy: 0.6271 - val_loss: nan - val_accuracy: 0.6502\n",
      "Epoch 6/10\n",
      "110288/110288 [==============================] - 6s 55us/step - loss: 1.2968 - accuracy: 0.6327 - val_loss: nan - val_accuracy: 0.6543\n",
      "Epoch 7/10\n",
      "110288/110288 [==============================] - 6s 55us/step - loss: 1.2644 - accuracy: 0.6377 - val_loss: nan - val_accuracy: 0.6539\n",
      "Epoch 8/10\n",
      "110288/110288 [==============================] - 6s 55us/step - loss: 1.2392 - accuracy: 0.6418 - val_loss: nan - val_accuracy: 0.6624\n",
      "Epoch 9/10\n",
      "110288/110288 [==============================] - 6s 54us/step - loss: 1.2182 - accuracy: 0.6455 - val_loss: nan - val_accuracy: 0.6697\n",
      "Epoch 10/10\n",
      "110288/110288 [==============================] - 6s 54us/step - loss: 1.1992 - accuracy: 0.6500 - val_loss: nan - val_accuracy: 0.6748\n",
      "new jersey est parfois calme en l' et il est il est en en <PAD> <PAD> <PAD> <PAD> <PAD> <PAD> <PAD>\n"
     ]
    }
   ],
   "source": [
    "def simple_model(input_shape, output_sequence_length, english_vocab_size, french_vocab_size):\n",
    "    \"\"\"\n",
    "    Build and train a basic RNN on x and y\n",
    "    :param input_shape: Tuple of input shape\n",
    "    :param output_sequence_length: Length of output sequence\n",
    "    :param english_vocab_size: Number of unique English words in the dataset\n",
    "    :param french_vocab_size: Number of unique French words in the dataset\n",
    "    :return: Keras model built, but not trained\n",
    "    \"\"\"\n",
    "    # TODO: Build the layers\n",
    "\n",
    "    \n",
    "    learning_rate = 1e-2\n",
    "    \n",
    "    input_seq = Input(input_shape[1:])\n",
    "    rnn = LSTM(64, return_sequences=True)(input_seq)\n",
    "    dropout = Dropout(0.2)(rnn)\n",
    "    # we change `plaintext_vocab_size` to `french_vocab_size` as our ouput is now French sentences intead of plain words\n",
    "    logits = TimeDistributed(Dense(french_vocab_size))(dropout)\n",
    "\n",
    "    model = Model(input_seq, Activation('softmax')(logits))\n",
    "    model.compile(loss=sparse_categorical_crossentropy,\n",
    "                  optimizer=Adam(learning_rate),\n",
    "                  metrics=['accuracy'])\n",
    "\n",
    "    \n",
    "    return model\n",
    "\n",
    "\n",
    "#reshape input\n",
    "tmp_x = pad(preprocessed_english_sentences, max_french_sequence_length)\n",
    "tmp_x = tmp_x.reshape((-1, preprocessed_french_sentences.shape[-2], 1))\n",
    "\n",
    "#Train the neural network\n",
    "simple_rnn_model = simple_model(\n",
    "    tmp_x.shape,\n",
    "    max_french_sequence_length,\n",
    "    english_vocab_size,\n",
    "    french_vocab_size\n",
    ")\n",
    "\n",
    "simple_rnn_model.fit(tmp_x, preprocessed_french_sentences, batch_size=1024, epochs=10, validation_split=0.2)\n",
    "\n",
    "#print predictions\n",
    "print(logits_to_text(simple_rnn_model.predict(tmp_x[:1])[0], french_tokenizer))"
   ]
  },
  {
   "cell_type": "code",
   "execution_count": null,
   "metadata": {
    "colab": {},
    "colab_type": "code",
    "id": "swJdSWm58HrZ"
   },
   "outputs": [],
   "source": []
  }
 ],
 "metadata": {
  "accelerator": "GPU",
  "colab": {
   "collapsed_sections": [],
   "name": "MachineTranslation.ipynb",
   "provenance": [],
   "toc_visible": true
  },
  "kernelspec": {
   "display_name": "Python 3",
   "language": "python",
   "name": "python3"
  },
  "language_info": {
   "codemirror_mode": {
    "name": "ipython",
    "version": 3
   },
   "file_extension": ".py",
   "mimetype": "text/x-python",
   "name": "python",
   "nbconvert_exporter": "python",
   "pygments_lexer": "ipython3",
   "version": "3.7.4"
  }
 },
 "nbformat": 4,
 "nbformat_minor": 1
}
